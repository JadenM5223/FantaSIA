{
 "cells": [
  {
   "cell_type": "markdown",
   "id": "chronic-branch",
   "metadata": {},
   "source": [
    "### Data Augmentation 해볼만한 거\n",
    "\n",
    "(기존에 하고 있던거)   \n",
    "1. grayscale\n",
    "2. augmentation - HorizontalFlip, Resize\n",
    "\n",
    "![1](./data/1.png)\n",
    "\n",
    "\n",
    "(해볼만한 거)   \n",
    "1. augmentation\n",
    "2. contrast 대비 높이기\n",
    "3. crop\n",
    "4. resize 다양하게 \n",
    "5. High resolution?\n",
    "6. Rotate"
   ]
  },
  {
   "cell_type": "code",
   "execution_count": null,
   "id": "innovative-effort",
   "metadata": {},
   "outputs": [],
   "source": [
    "import os\n",
    "#os.environ['CUDA_VISIBLE_DEVICES'] = '0'\n",
    "#import glob\n",
    "import cv2\n",
    "import keras\n",
    "import numpy as np\n",
    "import matplotlib.pyplot as plt\n",
    "import pandas as pd\n",
    "import random, tqdm\n",
    "from glob import glob\n",
    "import math\n",
    "from skimage.io import imread\n",
    "from PIL import Image, ImageOps"
   ]
  },
  {
   "cell_type": "code",
   "execution_count": null,
   "id": "interpreted-parks",
   "metadata": {},
   "outputs": [],
   "source": [
    "np.random.seed(42)\n",
    "tf.random.set_seed(42)"
   ]
  },
  {
   "cell_type": "markdown",
   "id": "inclusive-passport",
   "metadata": {},
   "source": []
  },
  {
   "cell_type": "code",
   "execution_count": null,
   "id": "recognized-finish",
   "metadata": {},
   "outputs": [],
   "source": [
    "DATA_DIR =  '/workspace/storage/roads/train/'\n",
    "VAL_DIR = '/workspace/storage/roads/val/'"
   ]
  },
  {
   "cell_type": "code",
   "execution_count": null,
   "id": "foreign-performer",
   "metadata": {},
   "outputs": [],
   "source": [
    "from albumentations import  HorizontalFlip, RandomSizedCrop, Compose, OneOf, Resize\n",
    "\n",
    "def label2gray(label):\n",
    "    gray = label.copy()\n",
    "    gray[np.where((label[:,:,0] == 255) & (label[:,:,1] == 255) & (label[:, :, 2] == 255))] = 0\n",
    "    gray[np.where(label[:,:, 0] != 0)] = 255\n",
    "    gray[np.where(label[:,:, 1] != 0)] = 255\n",
    "    gray[np.where(label[:,:, 2] != 0)] = 255\n",
    "    gray = Image.fromarray(gray)\n",
    "    gray = ImageOps.grayscale(gray)\n",
    "    gray = np.array(gray)\n",
    "    return gray\n",
    "\n",
    "def build_augmentation(is_train=True, img_size=(128, 128, 3)):\n",
    "    if is_train:\n",
    "        return Compose([\n",
    "                        HorizontalFlip(p=0.5),\n",
    "                        Resize(\n",
    "                            width=img_size[0],\n",
    "                            height=img_size[1]\n",
    "                            )\n",
    "                        ])\n",
    "    return Compose([\n",
    "                Resize(\n",
    "                    width=img_size[0],\n",
    "                    height=img_size[1]\n",
    "                    )\n",
    "                ])"
   ]
  },
  {
   "cell_type": "code",
   "execution_count": null,
   "id": "collect-british",
   "metadata": {},
   "outputs": [],
   "source": []
  },
  {
   "cell_type": "code",
   "execution_count": null,
   "id": "middle-terry",
   "metadata": {},
   "outputs": [],
   "source": []
  },
  {
   "cell_type": "code",
   "execution_count": null,
   "id": "sublime-favor",
   "metadata": {},
   "outputs": [],
   "source": []
  },
  {
   "cell_type": "code",
   "execution_count": null,
   "id": "following-circulation",
   "metadata": {},
   "outputs": [],
   "source": []
  },
  {
   "cell_type": "code",
   "execution_count": null,
   "id": "light-support",
   "metadata": {},
   "outputs": [],
   "source": []
  },
  {
   "cell_type": "code",
   "execution_count": null,
   "id": "popular-lucas",
   "metadata": {},
   "outputs": [],
   "source": []
  },
  {
   "cell_type": "code",
   "execution_count": null,
   "id": "weekly-conversion",
   "metadata": {},
   "outputs": [],
   "source": []
  },
  {
   "cell_type": "code",
   "execution_count": null,
   "id": "smooth-quilt",
   "metadata": {},
   "outputs": [],
   "source": []
  },
  {
   "cell_type": "code",
   "execution_count": null,
   "id": "provincial-terrorist",
   "metadata": {},
   "outputs": [],
   "source": []
  },
  {
   "cell_type": "code",
   "execution_count": null,
   "id": "concrete-draft",
   "metadata": {},
   "outputs": [],
   "source": []
  },
  {
   "cell_type": "code",
   "execution_count": null,
   "id": "geographic-heritage",
   "metadata": {},
   "outputs": [],
   "source": []
  },
  {
   "cell_type": "code",
   "execution_count": null,
   "id": "recognized-friendly",
   "metadata": {},
   "outputs": [],
   "source": []
  },
  {
   "cell_type": "code",
   "execution_count": null,
   "id": "motivated-steering",
   "metadata": {},
   "outputs": [],
   "source": []
  },
  {
   "cell_type": "code",
   "execution_count": null,
   "id": "ruled-invite",
   "metadata": {},
   "outputs": [],
   "source": []
  }
 ],
 "metadata": {
  "kernelspec": {
   "display_name": "aiffel",
   "language": "python",
   "name": "aiffel"
  },
  "language_info": {
   "codemirror_mode": {
    "name": "ipython",
    "version": 3
   },
   "file_extension": ".py",
   "mimetype": "text/x-python",
   "name": "python",
   "nbconvert_exporter": "python",
   "pygments_lexer": "ipython3",
   "version": "3.7.9"
  }
 },
 "nbformat": 4,
 "nbformat_minor": 5
}
